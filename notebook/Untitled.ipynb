{
 "cells": [
  {
   "cell_type": "code",
   "execution_count": 1,
   "id": "c12c59cc-cab6-41dd-bd1a-016a271c29b9",
   "metadata": {},
   "outputs": [],
   "source": [
    "import os\n",
    "import sys\n",
    "\n",
    "PROJECT_PATH = os.path.dirname(os.getcwd())\n",
    "sys.path.append(PROJECT_PATH)"
   ]
  },
  {
   "cell_type": "code",
   "execution_count": 2,
   "id": "928babdd-9ff3-4a82-b888-7a10f025230d",
   "metadata": {},
   "outputs": [
    {
     "name": "stdout",
     "output_type": "stream",
     "text": [
      "/home/a543979/hdegis-data-processor\n"
     ]
    }
   ],
   "source": [
    "print(PROJECT_PATH)"
   ]
  },
  {
   "cell_type": "code",
   "execution_count": 3,
   "id": "2577d74e-7ae1-4bff-9426-3d5321e34729",
   "metadata": {},
   "outputs": [],
   "source": [
    "import os\n",
    "import sys\n",
    "import json\n",
    "import time\n",
    "from typing import List, Tuple\n",
    "from db.initialize import initialize_tables\n",
    "from db.models import PageStatus\n",
    "from db.session import get_db_session\n",
    "from db.repository import Repository\n",
    "from storage.gcs_client import GCSStorageClient\n",
    "from processor.pdf_manager import PDFManager\n",
    "from processor.elastic import ESConnector\n",
    "from utils.logger import get_logger\n",
    "from utils.utils import compute_doc_hash\n",
    "from config import (\n",
    "    GCS_SOURCE_BUCKET,\n",
    "    GCS_PROCESSED_BUCKET,\n",
    "    PROJECT_ID, \n",
    "    GENAI_LOCATION,\n",
    "    ES_HOST,\n",
    "    ES_USER,\n",
    "    ES_PWD,\n",
    "    INDEX_NAME,\n",
    "    LOG_LEVEL\n",
    ")\n",
    "from google.cloud import storage\n",
    "from google import genai"
   ]
  },
  {
   "cell_type": "code",
   "execution_count": 4,
   "id": "7120ff59-6b5d-4ea5-aff7-8b1c5be5b9db",
   "metadata": {},
   "outputs": [],
   "source": [
    "db_gen = get_db_session()\n",
    "session = next(db_gen)"
   ]
  },
  {
   "cell_type": "code",
   "execution_count": 19,
   "id": "b9d8dceb-2491-4a54-9658-38fe4b2de335",
   "metadata": {},
   "outputs": [],
   "source": [
    "gcs_client = storage.Client()\n",
    "storage_client = GCSStorageClient(GCS_SOURCE_BUCKET, GCS_PROCESSED_BUCKET, gcs_client)\n",
    "repo = Repository(session)"
   ]
  },
  {
   "cell_type": "code",
   "execution_count": 20,
   "id": "c5663918-0b31-465e-9774-526931193b62",
   "metadata": {},
   "outputs": [],
   "source": [
    "known_doc_ids = repo.list_all_document_hashes()"
   ]
  },
  {
   "cell_type": "code",
   "execution_count": 21,
   "id": "179207ee-8fc3-40c2-a404-4e8be289fbd2",
   "metadata": {},
   "outputs": [
    {
     "data": {
      "text/plain": [
       "(66, set)"
      ]
     },
     "execution_count": 21,
     "metadata": {},
     "output_type": "execute_result"
    }
   ],
   "source": [
    "len(known_doc_ids), type(known_doc_ids)"
   ]
  },
  {
   "cell_type": "code",
   "execution_count": 22,
   "id": "2df6f8c7-c5db-48de-97c8-80c0c81b16ae",
   "metadata": {},
   "outputs": [],
   "source": [
    "new_docs: List[Tuple[str, str]] = []"
   ]
  },
  {
   "cell_type": "code",
   "execution_count": 23,
   "id": "471d733e-a780-48df-8c0c-5819268b4bbf",
   "metadata": {},
   "outputs": [],
   "source": [
    "pdf_paths = storage_client.list_pdfs()"
   ]
  },
  {
   "cell_type": "code",
   "execution_count": 25,
   "id": "31fadb0d-0deb-466a-b57c-67ac32a1cf10",
   "metadata": {},
   "outputs": [
    {
     "data": {
      "text/plain": [
       "(99, list)"
      ]
     },
     "execution_count": 25,
     "metadata": {},
     "output_type": "execute_result"
    }
   ],
   "source": [
    "len(pdf_paths), type(pdf_paths)"
   ]
  },
  {
   "cell_type": "code",
   "execution_count": 26,
   "id": "039e3e3c-988c-4371-869c-551e42def925",
   "metadata": {},
   "outputs": [
    {
     "data": {
      "text/plain": [
       "True"
      ]
     },
     "execution_count": 26,
     "metadata": {},
     "output_type": "execute_result"
    }
   ],
   "source": [
    "\"2. Type Test Reports/300SR/245 kV 63 kA MS (2024)/KEMA 3078-22 R0_Mechanical_IP_Pressure.pdf\" in pdf_paths"
   ]
  },
  {
   "cell_type": "code",
   "execution_count": 27,
   "id": "6dedca51-cbb7-4352-999d-c45e6e360bc3",
   "metadata": {},
   "outputs": [
    {
     "data": {
      "text/plain": [
       "True"
      ]
     },
     "execution_count": 27,
     "metadata": {},
     "output_type": "execute_result"
    }
   ],
   "source": [
    "\"2. Type Test Reports/300SR/245 kV 63 kA MS (2024)/KERI 20TC100154_Insulator_Partition.PDF\" in pdf_paths"
   ]
  },
  {
   "cell_type": "code",
   "execution_count": 28,
   "id": "d8c773fd-aaa5-44e8-9335-2194317d84a2",
   "metadata": {},
   "outputs": [],
   "source": [
    "from utils.utils import compute_doc_hash"
   ]
  },
  {
   "cell_type": "code",
   "execution_count": 29,
   "id": "aaa0dee9-1566-4221-b32c-0ce95871875a",
   "metadata": {},
   "outputs": [
    {
     "name": "stdout",
     "output_type": "stream",
     "text": [
      "2. Type Test Reports/300SR/245 kV 63 kA MS (2024)/KEMA 3078-22 R0_Mechanical_IP_Pressure.pdf 9319523986eaa6a4e0cbe86119377bbdc654000477acc2c83b5674a2599b4159\n",
      "2. Type Test Reports/300SR/245 kV 63 kA MS (2024)/KERI 20TC100154_Insulator_Partition.PDF 03eda2a04f1d0774c6bcd07f5063b5df61b2e7472ca1d23a882d8005342a63e2\n"
     ]
    }
   ],
   "source": [
    "for path in [\n",
    "    \"2. Type Test Reports/300SR/245 kV 63 kA MS (2024)/KEMA 3078-22 R0_Mechanical_IP_Pressure.pdf\",\n",
    "    \"2. Type Test Reports/300SR/245 kV 63 kA MS (2024)/KERI 20TC100154_Insulator_Partition.PDF\"\n",
    "]:\n",
    "    h = compute_doc_hash(storage_client, path)\n",
    "    print(path, h)\n"
   ]
  },
  {
   "cell_type": "code",
   "execution_count": 35,
   "id": "0a010fb1-ab49-4b14-bd47-e7a3672f7678",
   "metadata": {},
   "outputs": [],
   "source": [
    "h1 = compute_doc_hash(storage_client,\"2. Type Test Reports/300SR/245 kV 63 kA MS (2024)/KEMA 3078-22 R0_Mechanical_IP_Pressure.pdf\")"
   ]
  },
  {
   "cell_type": "code",
   "execution_count": 36,
   "id": "cac3ba36-b304-4edf-a03c-8b704aa2d14f",
   "metadata": {},
   "outputs": [],
   "source": [
    "h2 = compute_doc_hash(storage_client,\"2. Type Test Reports/300SR/245 kV 63 kA MS (2024)/KERI 20TC100154_Insulator_Partition.PDF\")"
   ]
  },
  {
   "cell_type": "code",
   "execution_count": 37,
   "id": "baad1bac-17e4-4449-b9b2-403371d9a6a5",
   "metadata": {},
   "outputs": [
    {
     "data": {
      "text/plain": [
       "False"
      ]
     },
     "execution_count": 37,
     "metadata": {},
     "output_type": "execute_result"
    }
   ],
   "source": [
    "h1 == h2"
   ]
  },
  {
   "cell_type": "code",
   "execution_count": 38,
   "id": "af9dc920-a7ea-4663-8fc5-f7c525fdcdce",
   "metadata": {},
   "outputs": [
    {
     "data": {
      "text/plain": [
       "True"
      ]
     },
     "execution_count": 38,
     "metadata": {},
     "output_type": "execute_result"
    }
   ],
   "source": [
    "h1 == \"9319523986eaa6a4e0cbe86119377bbdc654000477acc2c83b5674a2599b4159\""
   ]
  },
  {
   "cell_type": "code",
   "execution_count": 5,
   "id": "d190ba2c-8885-4a96-bc01-1b08f4946abe",
   "metadata": {},
   "outputs": [],
   "source": [
    "db_gen = get_db_session()\n",
    "session = next(db_gen)"
   ]
  },
  {
   "cell_type": "code",
   "execution_count": 6,
   "id": "8cae56a6-cf51-4f4b-95f8-221bf4406692",
   "metadata": {},
   "outputs": [
    {
     "name": "stderr",
     "output_type": "stream",
     "text": [
      "/opt/miniforge3/envs/venv_test_mariadb/lib/python3.12/site-packages/elasticsearch/_sync/client/__init__.py:403: SecurityWarning: Connecting to 'https://node.hd-aic.com:30692' using TLS with verify_certs=False is insecure\n",
      "  _transport = transport_class(\n"
     ]
    }
   ],
   "source": [
    "gcs_client = storage.Client()\n",
    "storage_client = GCSStorageClient(GCS_SOURCE_BUCKET, GCS_PROCESSED_BUCKET, gcs_client)\n",
    "repo = Repository(session)\n",
    "genai_client = genai.Client(vertexai=True, project=PROJECT_ID, location=GENAI_LOCATION)\n",
    "els = ESConnector(hosts=ES_HOST, credentials=(ES_USER, ES_PWD))\n",
    "\n",
    "manager = PDFManager(storage_client, repo, genai_client, els)"
   ]
  },
  {
   "cell_type": "code",
   "execution_count": 7,
   "id": "bb3c6357-15ae-4603-bac9-f815af02a858",
   "metadata": {},
   "outputs": [],
   "source": [
    "pdf_paths = storage_client.list_pdfs()"
   ]
  },
  {
   "cell_type": "code",
   "execution_count": 8,
   "id": "aa9bfa27-41bd-4c77-bece-c942ad94004f",
   "metadata": {},
   "outputs": [
    {
     "name": "stdout",
     "output_type": "stream",
     "text": [
      "Found %d PDF files in GCS 99\n"
     ]
    }
   ],
   "source": [
    "print(\"Found %d PDF files in GCS\", len(pdf_paths))"
   ]
  },
  {
   "cell_type": "code",
   "execution_count": 9,
   "id": "a426dbfc-b21b-484c-97a9-70bfe1be3b87",
   "metadata": {},
   "outputs": [],
   "source": [
    "known_doc_ids = repo.list_all_document_hashes()"
   ]
  },
  {
   "cell_type": "code",
   "execution_count": 10,
   "id": "12f4beda-3658-4a15-86ec-cf7181ac83bb",
   "metadata": {},
   "outputs": [],
   "source": [
    "new_docs: List[Tuple[str, str]] = []"
   ]
  },
  {
   "cell_type": "code",
   "execution_count": 11,
   "id": "92f20f1a-4a33-484e-ac68-9160c607ab2d",
   "metadata": {},
   "outputs": [
    {
     "name": "stdout",
     "output_type": "stream",
     "text": [
      " └── Detected %d new documents 99\n"
     ]
    }
   ],
   "source": [
    "for path in pdf_paths:\n",
    "    try:\n",
    "        doc_hash = compute_doc_hash(storage_client, path)\n",
    "        if doc_hash not in known_doc_ids:\n",
    "            new_docs.append((doc_hash, path))\n",
    "    except Exception as e:\n",
    "        print(\" └── Hash computation failed for %s (%s)\", path, e)\n",
    "\n",
    "print(\" └── Detected %d new documents\", len(new_docs))"
   ]
  },
  {
   "cell_type": "code",
   "execution_count": 12,
   "id": "167c2b00-a727-4991-a472-b120344466b0",
   "metadata": {},
   "outputs": [
    {
     "data": {
      "text/plain": [
       "[('32fd02100c080b28525b774e77809891589f04dbf183ea3f12f8b5adc4b20c28',\n",
       "  '1. International Standards/IEC/IEC 60099-4_Edition 3.0_2014-06.pdf'),\n",
       " ('3d479578ab04b3cab400a22dd91bd4829d3875e5e0fe22552dc51f91b739afc8',\n",
       "  '1. International Standards/IEC/IEC 60137_Edition 7.0_2017-06.pdf'),\n",
       " ('9f2aed2a7f66f3a902ae2d1eb91f99ecd06171343e351eb916782749b1ed9caf',\n",
       "  '1. International Standards/IEC/IEC 60376_Edition 3.0_2018-05.pdf')]"
      ]
     },
     "execution_count": 12,
     "metadata": {},
     "output_type": "execute_result"
    }
   ],
   "source": [
    "new_docs[:3]"
   ]
  },
  {
   "cell_type": "code",
   "execution_count": 13,
   "id": "f154e281-764c-415f-abbf-90c44e467ff3",
   "metadata": {},
   "outputs": [],
   "source": [
    "new_docs_hash = [h for h, p in new_docs]"
   ]
  },
  {
   "cell_type": "code",
   "execution_count": 14,
   "id": "d4bacfc2-4648-47a3-8e13-7c97c38e08d9",
   "metadata": {},
   "outputs": [
    {
     "data": {
      "text/plain": [
       "(99, 99)"
      ]
     },
     "execution_count": 14,
     "metadata": {},
     "output_type": "execute_result"
    }
   ],
   "source": [
    "len(new_docs_hash), len(set(new_docs_hash))"
   ]
  },
  {
   "cell_type": "code",
   "execution_count": null,
   "id": "aaa93e15-4298-4b17-9db7-97526a26ca40",
   "metadata": {},
   "outputs": [],
   "source": [
    "set()"
   ]
  },
  {
   "cell_type": "code",
   "execution_count": 15,
   "id": "a485376f-7aff-471d-b323-3ef803a14d6e",
   "metadata": {},
   "outputs": [
    {
     "name": "stdout",
     "output_type": "stream",
     "text": [
      " └── Detected 198 new documents\n",
      " └── No duplicate doc_hash values found.\n"
     ]
    }
   ],
   "source": [
    "from collections import defaultdict\n",
    "\n",
    "hash_to_paths = defaultdict(list)\n",
    "\n",
    "for path in pdf_paths:\n",
    "    try:\n",
    "        doc_hash = compute_doc_hash(storage_client, path)\n",
    "        hash_to_paths[doc_hash].append(path)\n",
    "        if doc_hash not in known_doc_ids:\n",
    "            new_docs.append((doc_hash, path))\n",
    "    except Exception as e:\n",
    "        print(\" └── Hash computation failed for %s (%s)\" % (path, e))\n",
    "\n",
    "# 중복된 hash들 출력\n",
    "print(\" └── Detected %d new documents\" % len(new_docs))\n",
    "\n",
    "duplicates = {h: p_list for h, p_list in hash_to_paths.items() if len(p_list) > 1}\n",
    "if duplicates:\n",
    "    print(\" └── Found duplicate hashes:\")\n",
    "    for h, paths in duplicates.items():\n",
    "        print(f\"    - Hash {h} is shared by:\")\n",
    "        for p in paths:\n",
    "            print(f\"      • {p}\")\n",
    "else:\n",
    "    print(\" └── No duplicate doc_hash values found.\")\n"
   ]
  },
  {
   "cell_type": "code",
   "execution_count": null,
   "id": "d8c04253-ef8a-4805-9dea-0c23b674dcd1",
   "metadata": {},
   "outputs": [],
   "source": []
  }
 ],
 "metadata": {
  "kernelspec": {
   "display_name": "Python (venv_test_mariadb)",
   "language": "python",
   "name": "venv_test_mariadb"
  },
  "language_info": {
   "codemirror_mode": {
    "name": "ipython",
    "version": 3
   },
   "file_extension": ".py",
   "mimetype": "text/x-python",
   "name": "python",
   "nbconvert_exporter": "python",
   "pygments_lexer": "ipython3",
   "version": "3.12.9"
  }
 },
 "nbformat": 4,
 "nbformat_minor": 5
}
