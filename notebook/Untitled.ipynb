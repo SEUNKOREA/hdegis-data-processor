{
 "cells": [
  {
   "cell_type": "code",
   "execution_count": 1,
   "id": "33bc9b7b-ccc8-4fd7-9741-8a17e5f8908e",
   "metadata": {},
   "outputs": [],
   "source": [
    "from dotenv import find_dotenv, load_dotenv"
   ]
  },
  {
   "cell_type": "code",
   "execution_count": 2,
   "id": "95e1db09-1718-4ced-a7a3-8a672b03ccff",
   "metadata": {},
   "outputs": [
    {
     "data": {
      "text/plain": [
       "'/home/a543979/hdegis-data-processor/.env'"
      ]
     },
     "execution_count": 2,
     "metadata": {},
     "output_type": "execute_result"
    }
   ],
   "source": [
    "find_dotenv()"
   ]
  },
  {
   "cell_type": "code",
   "execution_count": null,
   "id": "6cfa4a1d-57f8-4eee-8ea4-efa9220e3e4c",
   "metadata": {},
   "outputs": [],
   "source": [
    "import os\n",
    "os.chdir()"
   ]
  }
 ],
 "metadata": {
  "kernelspec": {
   "display_name": "Python (venv_test_mariadb)",
   "language": "python",
   "name": "venv_test_mariadb"
  },
  "language_info": {
   "codemirror_mode": {
    "name": "ipython",
    "version": 3
   },
   "file_extension": ".py",
   "mimetype": "text/x-python",
   "name": "python",
   "nbconvert_exporter": "python",
   "pygments_lexer": "ipython3",
   "version": "3.12.9"
  }
 },
 "nbformat": 4,
 "nbformat_minor": 5
}
